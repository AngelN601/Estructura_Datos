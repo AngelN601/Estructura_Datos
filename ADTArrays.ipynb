{
  "nbformat": 4,
  "nbformat_minor": 0,
  "metadata": {
    "colab": {
      "name": "ADTArrays.ipynb",
      "provenance": [],
      "authorship_tag": "ABX9TyNTsUkT4pVQT9iolUBLha4V",
      "include_colab_link": true
    },
    "kernelspec": {
      "name": "python3",
      "display_name": "Python 3"
    },
    "language_info": {
      "name": "python"
    }
  },
  "cells": [
    {
      "cell_type": "markdown",
      "metadata": {
        "id": "view-in-github",
        "colab_type": "text"
      },
      "source": [
        "<a href=\"https://colab.research.google.com/github/AngelN601/POO2257/blob/master/ADTArrays.ipynb\" target=\"_parent\"><img src=\"https://colab.research.google.com/assets/colab-badge.svg\" alt=\"Open In Colab\"/></a>"
      ]
    },
    {
      "cell_type": "code",
      "metadata": {
        "id": "hwFEgt41H2wE"
      },
      "source": [
        "\"\"\"\n",
        "ADT Array\n",
        "afafafa\n",
        "afa\n",
        "faf\n",
        "\n",
        "\"\"\"\n",
        "\n",
        "class Array():\n",
        "  def _int_( self, tamano ):\n",
        "    self.__tamano = tamano\n",
        "    self.__data = [0 for x in range(self.__tamano) ] \n",
        "\n",
        "  def get_item( self , index ):\n",
        "    return self.__data[index]\n",
        "  \n",
        "  def to_string( self ):\n",
        "    print(self.__data)\n",
        "\n",
        "#Tarea\n",
        "\n",
        "  def setItem( self , index, value):\n",
        "   self.lista [ index ] = value\n",
        "\n",
        "  def getLenght ():\n",
        "    data [7, 12, 20]\n",
        "    getLenght = len(data)\n",
        "    print(getLenght)\n",
        "\n",
        "  def clear (dato):\n",
        "    num = dato({1:'a', 2:'b'})\n",
        "    num.clear()\n",
        "\n"
      ],
      "execution_count": 7,
      "outputs": []
    },
    {
      "cell_type": "code",
      "metadata": {
        "id": "wkeMfAlFN5k1"
      },
      "source": [
        "ejemplo = Array(5)\n",
        "ejemplo.to_string()\n",
        "ejemplo.get_item(3)"
      ],
      "execution_count": null,
      "outputs": []
    }
  ]
}