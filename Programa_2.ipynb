{
  "nbformat": 4,
  "nbformat_minor": 0,
  "metadata": {
    "colab": {
      "name": "Programa_2.ipynb",
      "provenance": [],
      "authorship_tag": "ABX9TyP7TelIm4VAhHjau2UZ7EjY",
      "include_colab_link": true
    },
    "kernelspec": {
      "name": "python3",
      "display_name": "Python 3"
    },
    "language_info": {
      "name": "python"
    }
  },
  "cells": [
    {
      "cell_type": "markdown",
      "metadata": {
        "id": "view-in-github",
        "colab_type": "text"
      },
      "source": [
        "<a href=\"https://colab.research.google.com/github/AngelN601/POO2257/blob/master/Programa_2.ipynb\" target=\"_parent\"><img src=\"https://colab.research.google.com/assets/colab-badge.svg\" alt=\"Open In Colab\"/></a>"
      ]
    },
    {
      "cell_type": "code",
      "metadata": {
        "id": "0MMIDHKP7vTv"
      },
      "source": [
        "#Programa_2\n",
        "\n",
        "print(\"Estado de la partida: love \")\n",
        "\n",
        "primero = \"15\"\n",
        "segundo = \"30\"\n",
        "tercero = \"40\"\n",
        "cuarto = \"WIN\"\n",
        "quinto = \"DEUCE\"\n",
        "sexto = \"ADV\"\n",
        "\n",
        "primero_2 = \"15\"\n",
        "segundo_2 = \"30\"\n",
        "tercero_2 = \"40\"\n",
        "cuarto_2 = \"WIN\"\n",
        "quinto_2 = \"DEUCE\"\n",
        "sexto_2 = \"ADV\"\n",
        "\n",
        "contador = 0\n",
        "contador_2 = 0\n",
        "\n",
        "jugador = input(\"¿Qué jugador anoto? \") \n",
        "\n",
        "while jugador != \"WIN\":\n",
        "  if jugador == \"1\":\n",
        "    print(f\"El jugador 1 tiene \", primero)\n",
        "    contador += 1\n",
        "    if contador == 1:\n",
        "      primero = segundo\n",
        "    if contador == 2:\n",
        "      primero = tercero\n",
        "    \n",
        "  \n",
        "  if jugador == \"2\":\n",
        "    print(f\"El jugador 2 tiene \", primero_2)\n",
        "    contador_2 += 1\n",
        "    if contador_2 == 1:\n",
        "      primero_2 = segundo_2\n",
        "    if contador_2 == 2:\n",
        "      primero_2 = tercero_2\n",
        "    \n",
        "  if contador == 3 and contador_2 == 3:\n",
        "    print(\"Partida DEUCE\")\n",
        "  jugador = input(\"¿Qué jugador anoto? \")\n"
      ],
      "execution_count": null,
      "outputs": []
    }
  ]
}