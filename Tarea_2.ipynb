{
  "nbformat": 4,
  "nbformat_minor": 0,
  "metadata": {
    "colab": {
      "name": "Tarea_2.ipynb",
      "provenance": [],
      "authorship_tag": "ABX9TyORR2GeFCCMIIbD3vEjVcRj",
      "include_colab_link": true
    },
    "kernelspec": {
      "name": "python3",
      "display_name": "Python 3"
    },
    "language_info": {
      "name": "python"
    }
  },
  "cells": [
    {
      "cell_type": "markdown",
      "metadata": {
        "id": "view-in-github",
        "colab_type": "text"
      },
      "source": [
        "<a href=\"https://colab.research.google.com/github/AngelN601/POO2257/blob/master/Tarea_2.ipynb\" target=\"_parent\"><img src=\"https://colab.research.google.com/assets/colab-badge.svg\" alt=\"Open In Colab\"/></a>"
      ]
    },
    {
      "cell_type": "code",
      "metadata": {
        "colab": {
          "base_uri": "https://localhost:8080/"
        },
        "id": "Zoc7feYhAx2n",
        "outputId": "08fba5ab-bf6a-4c50-802f-6e99e8d70065"
      },
      "source": [
        "#1\n",
        "enteros = [7, 14, 21, 28, 35]\n",
        "\n",
        "def sumar (enteros):\n",
        "  if enteros == []:\n",
        "    suma = 0\n",
        "  else:\n",
        "    suma = enteros[0] + sumar(enteros[1:])\n",
        "  return suma\n",
        "\n",
        "print(sumar(enteros))"
      ],
      "execution_count": 7,
      "outputs": [
        {
          "output_type": "stream",
          "name": "stdout",
          "text": [
            "105\n"
          ]
        }
      ]
    },
    {
      "cell_type": "code",
      "metadata": {
        "colab": {
          "base_uri": "https://localhost:8080/"
        },
        "id": "H1fYkjIx03W0",
        "outputId": "3514dffe-1135-4a47-8452-b1f5f5b25bbc"
      },
      "source": [
        "#2\n",
        "def bomba (numero):\n",
        "  numero -= 1\n",
        "  if numero > 0:\n",
        "    print(numero)\n",
        "    bomba(numero)\n",
        "  else:\n",
        "    print(\"BOOMMMMM !!!\")\n",
        "\n",
        "bomba(6)"
      ],
      "execution_count": 3,
      "outputs": [
        {
          "output_type": "stream",
          "name": "stdout",
          "text": [
            "5\n",
            "4\n",
            "3\n",
            "2\n",
            "1\n",
            "BOOMMMMM !!!\n"
          ]
        }
      ]
    },
    {
      "cell_type": "code",
      "metadata": {
        "colab": {
          "base_uri": "https://localhost:8080/"
        },
        "id": "1mRle3t3AkqR",
        "outputId": "1f6df9ac-ede2-4b20-9cf8-f942babe0587"
      },
      "source": [
        "#3\n",
        "\n",
        "lista = [1, 2, 8, 4, 5,]\n",
        "\n",
        "def mostrar_lista (lista):\n",
        "  if len(lista) != 0:\n",
        "    print(lista[0])\n",
        "    mostrar_lista(lista[1:2])\n",
        "    mostrar_lista(lista[3:5])\n",
        "  \n",
        "mostrar_lista(lista)\n"
      ],
      "execution_count": 105,
      "outputs": [
        {
          "output_type": "stream",
          "name": "stdout",
          "text": [
            "1\n",
            "2\n",
            "4\n",
            "5\n"
          ]
        }
      ]
    }
  ]
}